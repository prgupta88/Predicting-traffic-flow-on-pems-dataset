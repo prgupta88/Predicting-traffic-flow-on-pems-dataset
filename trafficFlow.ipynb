{
  "nbformat": 4,
  "nbformat_minor": 0,
  "metadata": {
    "colab": {
      "name": "dataProcess.ipynb",
      "provenance": [],
      "collapsed_sections": []
    },
    "kernelspec": {
      "name": "python3",
      "display_name": "Python 3"
    }
  },
  "cells": [
    {
      "cell_type": "code",
      "metadata": {
        "id": "k7zyYECxX6du",
        "colab_type": "code",
        "outputId": "cb97b20e-ebef-442b-f151-74a7dc2e8309",
        "colab": {
          "base_uri": "https://localhost:8080/",
          "height": 34
        }
      },
      "source": [
        "# mountinh the google drive to read the source \n",
        "from google.colab import drive\n",
        "drive.mount('/content/drive')"
      ],
      "execution_count": 0,
      "outputs": [
        {
          "output_type": "stream",
          "text": [
            "Drive already mounted at /content/drive; to attempt to forcibly remount, call drive.mount(\"/content/drive\", force_remount=True).\n"
          ],
          "name": "stdout"
        }
      ]
    },
    {
      "cell_type": "code",
      "metadata": {
        "id": "Zx3onS7q3KZe",
        "colab_type": "code",
        "colab": {}
      },
      "source": [
        "import numpy as np\n",
        "import matplotlib.pyplot as plt\n",
        "import pandas as pd\n",
        "pd.set_option('display.float_format', lambda x: '%.4f' % x)\n",
        "import seaborn as sns\n",
        "sns.set_context(\"paper\", font_scale=1.3)\n",
        "sns.set_style('white')\n",
        "import warnings\n",
        "warnings.filterwarnings('ignore')\n",
        "from time import time\n",
        "import matplotlib.ticker as tkr\n",
        "from scipy import stats\n",
        "from statsmodels.tsa.stattools import adfuller\n",
        "from sklearn import preprocessing\n",
        "from statsmodels.tsa.stattools import pacf\n",
        "%matplotlib inline\n",
        "\n",
        "import math\n",
        "import keras\n",
        "from keras.models import Sequential\n",
        "from keras.layers import Dense\n",
        "from keras.layers import LSTM\n",
        "from keras.layers import Dropout\n",
        "from keras.layers import Dropout\n",
        "from keras.layers import *\n",
        "from sklearn.preprocessing import MinMaxScaler\n",
        "from sklearn.metrics import mean_squared_error\n",
        "from sklearn.metrics import mean_absolute_error\n",
        "from keras.callbacks import EarlyStopping"
      ],
      "execution_count": 0,
      "outputs": []
    },
    {
      "cell_type": "code",
      "metadata": {
        "id": "xyMeV-0lueUg",
        "colab_type": "code",
        "colab": {}
      },
      "source": [
        "\"\"\"\n",
        "Processing the data\n",
        "\"\"\"\n",
        "import numpy as np\n",
        "import pandas as pd\n",
        "from sklearn.preprocessing import StandardScaler, MinMaxScaler\n",
        "\n",
        "\n",
        "def process_data(train, test, lags):\n",
        "    \"\"\"Process data\n",
        "    Reshape and split train\\test data.\n",
        "    # Arguments\n",
        "        train: String, name of .csv train file.\n",
        "        test: String, name of .csv test file.\n",
        "        lags: integer, time lag.\n",
        "    # Returns\n",
        "        X_train: ndarray.\n",
        "        y_train: ndarray.\n",
        "        X_test: ndarray.\n",
        "        y_test: ndarray.\n",
        "        scaler: StandardScaler.\n",
        "    \"\"\"\n",
        "    attr = 'Flow (Veh/Hour)'\n",
        "    df1 = pd.read_csv(train, encoding='utf-8').fillna(0)\n",
        "    df2 = pd.read_csv(test, encoding='utf-8').fillna(0)\n",
        "\n",
        "    # scaler = StandardScaler().fit(df1[attr].values)\n",
        "    scaler = MinMaxScaler(feature_range=(0, 1)).fit(df1[attr].values.reshape(-1, 1))\n",
        "    flow1 = scaler.transform(df1[attr].values.reshape(-1, 1)).reshape(1, -1)[0]\n",
        "    flow2 = scaler.transform(df2[attr].values.reshape(-1, 1)).reshape(1, -1)[0]\n",
        "\n",
        "    train, test = [], []\n",
        "    for i in range(lags, len(flow1)):\n",
        "        train.append(flow1[i - lags: i + 1])\n",
        "    for i in range(lags, len(flow2)):\n",
        "        test.append(flow2[i - lags: i + 1])\n",
        "\n",
        "    train = np.array(train)\n",
        "    test = np.array(test)\n",
        "    np.random.shuffle(train)\n",
        "\n",
        "    X_train = train[:, :-1]\n",
        "    y_train = train[:, -1]\n",
        "    X_test = test[:, :-1]\n",
        "    y_test = test[:, -1]\n",
        "\n",
        "    return X_train, y_train, X_test, y_test, scaler"
      ],
      "execution_count": 0,
      "outputs": []
    },
    {
      "cell_type": "code",
      "metadata": {
        "id": "DWFbT5Jut6Xg",
        "colab_type": "code",
        "colab": {}
      },
      "source": [
        "X_train, Y_train, X_test, Y_test, scaler = process_data('/content/drive/My Drive/Colab Notebooks/train_pems.csv', '/content/drive/My Drive/Colab Notebooks/test_pems.csv',lags=12)"
      ],
      "execution_count": 0,
      "outputs": []
    },
    {
      "cell_type": "code",
      "metadata": {
        "id": "u8vX2UpwzaFy",
        "colab_type": "code",
        "outputId": "9b69a63a-b2cd-42f9-f3b0-8ab18a6d5c80",
        "colab": {
          "base_uri": "https://localhost:8080/",
          "height": 34
        }
      },
      "source": [
        "X_train.shape\n",
        "Y_train.shape"
      ],
      "execution_count": 23,
      "outputs": [
        {
          "output_type": "execute_result",
          "data": {
            "text/plain": [
              "(2147,)"
            ]
          },
          "metadata": {
            "tags": []
          },
          "execution_count": 23
        }
      ]
    },
    {
      "cell_type": "code",
      "metadata": {
        "id": "1LdCt9Hp1xSn",
        "colab_type": "code",
        "colab": {}
      },
      "source": [
        "# reshape input to be [samples, time steps, features]\n",
        "X_train = np.reshape(X_train, (X_train.shape[0], 1, X_train.shape[1]))\n",
        "X_test = np.reshape(X_test, (X_test.shape[0], 1, X_test.shape[1]))"
      ],
      "execution_count": 0,
      "outputs": []
    },
    {
      "cell_type": "code",
      "metadata": {
        "id": "UPbLT-bht-te",
        "colab_type": "code",
        "colab": {
          "base_uri": "https://localhost:8080/",
          "height": 952
        },
        "outputId": "b867109e-6a51-40b0-8a54-5c30d545800d"
      },
      "source": [
        "model = Sequential()\n",
        "model.add(LSTM(100, input_shape=(X_train.shape[1], X_train.shape[2])))\n",
        "model.add(Dropout(0.2))\n",
        "model.add(Dense(1))\n",
        "model.compile(loss='mean_squared_error', optimizer='adam')\n",
        "\n",
        "history = model.fit(X_train, Y_train, epochs=20, batch_size=70, validation_data=(X_test, Y_test), \n",
        "                    callbacks=[EarlyStopping(monitor='val_loss', patience=10)], verbose=1, shuffle=False)\n",
        "\n",
        "# Training Phase\n",
        "model.summary()"
      ],
      "execution_count": 28,
      "outputs": [
        {
          "output_type": "stream",
          "text": [
            "Train on 2147 samples, validate on 1476 samples\n",
            "Epoch 1/20\n",
            "2147/2147 [==============================] - 1s 362us/step - loss: 0.1101 - val_loss: 0.0581\n",
            "Epoch 2/20\n",
            "2147/2147 [==============================] - 0s 67us/step - loss: 0.0339 - val_loss: 0.0199\n",
            "Epoch 3/20\n",
            "2147/2147 [==============================] - 0s 61us/step - loss: 0.0151 - val_loss: 0.0112\n",
            "Epoch 4/20\n",
            "2147/2147 [==============================] - 0s 63us/step - loss: 0.0102 - val_loss: 0.0091\n",
            "Epoch 5/20\n",
            "2147/2147 [==============================] - 0s 67us/step - loss: 0.0092 - val_loss: 0.0081\n",
            "Epoch 6/20\n",
            "2147/2147 [==============================] - 0s 62us/step - loss: 0.0085 - val_loss: 0.0074\n",
            "Epoch 7/20\n",
            "2147/2147 [==============================] - 0s 70us/step - loss: 0.0080 - val_loss: 0.0066\n",
            "Epoch 8/20\n",
            "2147/2147 [==============================] - 0s 63us/step - loss: 0.0073 - val_loss: 0.0064\n",
            "Epoch 9/20\n",
            "2147/2147 [==============================] - 0s 73us/step - loss: 0.0068 - val_loss: 0.0058\n",
            "Epoch 10/20\n",
            "2147/2147 [==============================] - 0s 65us/step - loss: 0.0067 - val_loss: 0.0056\n",
            "Epoch 11/20\n",
            "2147/2147 [==============================] - 0s 60us/step - loss: 0.0063 - val_loss: 0.0053\n",
            "Epoch 12/20\n",
            "2147/2147 [==============================] - 0s 58us/step - loss: 0.0061 - val_loss: 0.0050\n",
            "Epoch 13/20\n",
            "2147/2147 [==============================] - 0s 62us/step - loss: 0.0062 - val_loss: 0.0047\n",
            "Epoch 14/20\n",
            "2147/2147 [==============================] - 0s 60us/step - loss: 0.0059 - val_loss: 0.0049\n",
            "Epoch 15/20\n",
            "2147/2147 [==============================] - 0s 62us/step - loss: 0.0058 - val_loss: 0.0047\n",
            "Epoch 16/20\n",
            "2147/2147 [==============================] - 0s 62us/step - loss: 0.0057 - val_loss: 0.0047\n",
            "Epoch 17/20\n",
            "2147/2147 [==============================] - 0s 58us/step - loss: 0.0056 - val_loss: 0.0043\n",
            "Epoch 18/20\n",
            "2147/2147 [==============================] - 0s 60us/step - loss: 0.0053 - val_loss: 0.0045\n",
            "Epoch 19/20\n",
            "2147/2147 [==============================] - 0s 62us/step - loss: 0.0053 - val_loss: 0.0043\n",
            "Epoch 20/20\n",
            "2147/2147 [==============================] - 0s 62us/step - loss: 0.0051 - val_loss: 0.0039\n",
            "Model: \"sequential_3\"\n",
            "_________________________________________________________________\n",
            "Layer (type)                 Output Shape              Param #   \n",
            "=================================================================\n",
            "lstm_2 (LSTM)                (None, 100)               45200     \n",
            "_________________________________________________________________\n",
            "dropout_1 (Dropout)          (None, 100)               0         \n",
            "_________________________________________________________________\n",
            "dense_1 (Dense)              (None, 1)                 101       \n",
            "=================================================================\n",
            "Total params: 45,301\n",
            "Trainable params: 45,301\n",
            "Non-trainable params: 0\n",
            "_________________________________________________________________\n"
          ],
          "name": "stdout"
        }
      ]
    },
    {
      "cell_type": "code",
      "metadata": {
        "id": "k4ZztTFnuHur",
        "colab_type": "code",
        "colab": {
          "base_uri": "https://localhost:8080/",
          "height": 85
        },
        "outputId": "3369b7a6-c0fb-404b-d8aa-bb50dc0ec180"
      },
      "source": [
        "# make predictions\n",
        "train_predict = model.predict(X_train)\n",
        "test_predict = model.predict(X_test)\n",
        "# invert predictions\n",
        "train_predict = scaler.inverse_transform(train_predict)\n",
        "Y_train = scaler.inverse_transform([Y_train])\n",
        "test_predict = scaler.inverse_transform(test_predict)\n",
        "Y_test = scaler.inverse_transform([Y_test])\n",
        "\n",
        "print('Train Mean Absolute Error:', mean_absolute_error(Y_train[0], train_predict[:,0]))\n",
        "print('Train Root Mean Squared Error:',np.sqrt(mean_squared_error(Y_train[0], train_predict[:,0])))\n",
        "print('Test Mean Absolute Error:', mean_absolute_error(Y_test[0], test_predict[:,0]))\n",
        "print('Test Root Mean Squared Error:',np.sqrt(mean_squared_error(Y_test[0], test_predict[:,0])))"
      ],
      "execution_count": 29,
      "outputs": [
        {
          "output_type": "stream",
          "text": [
            "Train Mean Absolute Error: 385.6768878094252\n",
            "Train Root Mean Squared Error: 499.4775876979315\n",
            "Test Mean Absolute Error: 369.23022117185076\n",
            "Test Root Mean Squared Error: 477.94480917014175\n"
          ],
          "name": "stdout"
        }
      ]
    },
    {
      "cell_type": "code",
      "metadata": {
        "id": "T4uXn1c4uOZ1",
        "colab_type": "code",
        "colab": {
          "base_uri": "https://localhost:8080/",
          "height": 300
        },
        "outputId": "598ef2c9-d128-45ae-d113-bd681403015e"
      },
      "source": [
        "plt.figure(figsize=(8,4))\n",
        "plt.plot(history.history['loss'], label='Train Loss')\n",
        "plt.plot(history.history['val_loss'], label='Test Loss')\n",
        "plt.title('model loss')\n",
        "plt.ylabel('loss')\n",
        "plt.xlabel('epochs')\n",
        "plt.legend(loc='upper right')\n",
        "plt.show();"
      ],
      "execution_count": 30,
      "outputs": [
        {
          "output_type": "display_data",
          "data": {
            "image/png": "[encoded data removed]",
            "text/plain": [
              "<Figure size 576x288 with 1 Axes>"
            ]
          },
          "metadata": {
            "tags": [],
            "needs_background": "light"
          }
        }
      ]
    }
  ]
}